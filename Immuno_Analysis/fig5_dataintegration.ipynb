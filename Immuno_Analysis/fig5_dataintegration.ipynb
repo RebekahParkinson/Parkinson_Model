{
 "cells": [
  {
   "cell_type": "code",
   "execution_count": 2,
   "metadata": {},
   "outputs": [],
   "source": [
    "import pandas as pd\n",
    "import numpy as np \n",
    "from scipy import stats\n",
    "import polars as pl\n",
    "import sklearn.decomposition as decomposition\n",
    "import sklearn.preprocessing as preprocessing\n",
    "import os"
   ]
  },
  {
   "cell_type": "code",
   "execution_count": 3,
   "metadata": {},
   "outputs": [
    {
     "name": "stderr",
     "output_type": "stream",
     "text": [
      "C:\\Users\\Tony\\AppData\\Local\\Temp\\ipykernel_19888\\24601879.py:24: FutureWarning: pivot_table dropped a column because it failed to aggregate. This behavior is deprecated and will raise in a future version of pandas. Select only the columns that can be aggregated.\n",
      "  dated_sheets[i] = dated_sheets[i].pivot_table(index=\"mouse_barcode\", columns=\"Date\").reset_index()\n",
      "C:\\Users\\Tony\\AppData\\Local\\Temp\\ipykernel_19888\\24601879.py:24: FutureWarning: pivot_table dropped a column because it failed to aggregate. This behavior is deprecated and will raise in a future version of pandas. Select only the columns that can be aggregated.\n",
      "  dated_sheets[i] = dated_sheets[i].pivot_table(index=\"mouse_barcode\", columns=\"Date\").reset_index()\n",
      "C:\\Users\\Tony\\AppData\\Local\\Temp\\ipykernel_19888\\24601879.py:24: FutureWarning: pivot_table dropped a column because it failed to aggregate. This behavior is deprecated and will raise in a future version of pandas. Select only the columns that can be aggregated.\n",
      "  dated_sheets[i] = dated_sheets[i].pivot_table(index=\"mouse_barcode\", columns=\"Date\").reset_index()\n"
     ]
    }
   ],
   "source": [
    "neuro = pd.read_excel(\"../Data Integration/IMMUNO_vs_NEURO_df.xlsx\", sheet_name=\"neuro\")\n",
    "whole_blood = pd.read_excel(\"../Data Integration/IMMUNO_vs_NEURO_df.xlsx\", sheet_name=\"whole blood\")\n",
    "myeloids = pd.read_excel(\"../Data Integration/IMMUNO_vs_NEURO_df.xlsx\", sheet_name=\"Myeloids\")\n",
    "lymphocytes = pd.read_excel(\"../Data Integration/IMMUNO_vs_NEURO_df.xlsx\", sheet_name=\"Lymphocytes\")\n",
    "lymph_selectedpop = pd.read_excel(\"../Data Integration/IMMUNO_vs_NEURO_df.xlsx\", sheet_name=\"Lymph_selectedpop\")\n",
    "behaviour = pd.read_excel(\"../Data Integration/IMMUNO_vs_NEURO_df.xlsx\", sheet_name=\"partial_behaviour\")\n",
    "\n",
    "sheets = [neuro, whole_blood, myeloids, lymph_selectedpop, lymphocytes, behaviour]\n",
    "\n",
    "for sheet in sheets:\n",
    "    sheet[\"mouse_barcode\"] = sheet[\"Batch\"].astype(str) + \"_\" + sheet[\"Ms#\"].astype(str)\n",
    "\n",
    "metadata_cols = [\"Batch\", \"Ms#\", \"Lab\", \"Strain\", \"Sex\", \"Condition\", \"Date\"]\n",
    "\n",
    "for sheet in sheets:\n",
    "    existing_metadata_cols = [col for col in metadata_cols if col in sheet.columns]\n",
    "    sheet[existing_metadata_cols] = sheet[existing_metadata_cols].astype(str)  # Convert existing metadata columns to string type\n",
    "    sheet.drop_duplicates(subset=[\"mouse_barcode\"] + existing_metadata_cols, inplace=True)  # Remove duplicate metadata rows\n",
    "\n",
    "dated_sheets = [whole_blood, lymphocytes, myeloids]\n",
    "dated_sheets = [whole_blood, lymphocytes, myeloids]\n",
    "\n",
    "for i in range(len(dated_sheets)):\n",
    "    dated_sheets[i] = dated_sheets[i].pivot_table(index=\"mouse_barcode\", columns=\"Date\").reset_index()\n",
    "    dated_sheets[i].columns = [str(col[0]) + \"_wk\" + str(col[1]) if col[0] != \"mouse_barcode\" else col[0] for col in dated_sheets[i].columns]\n",
    "\n",
    "whole_blood = dated_sheets[0].reset_index(drop=True)\n",
    "lymphocytes = dated_sheets[1].reset_index(drop=True)\n",
    "myeloids = dated_sheets[2].reset_index(drop=True)\n",
    "\n",
    "metadata_dfs = []\n",
    "for sheet in sheets:\n",
    "    existing_metadata_cols = [col for col in metadata_cols if col in sheet.columns]\n",
    "    metadata_dfs.append(sheet[[\"mouse_barcode\"] + existing_metadata_cols])\n",
    "\n",
    "metadata_df = pd.concat(metadata_dfs)\n",
    "\n",
    "# Handle missing values in all metadata columns\n",
    "for col in metadata_cols:\n",
    "    if col in metadata_df.columns:\n",
    "        metadata_df[col] = metadata_df[col].fillna(method=\"ffill\")\n",
    "\n",
    "metadata_df = metadata_df.drop_duplicates(subset=\"mouse_barcode\").reset_index(drop=True)\n",
    "\n",
    "merged_df = pd.concat([neuro.set_index(\"mouse_barcode\"),\n",
    "                       whole_blood.set_index(\"mouse_barcode\"),\n",
    "                       lymph_selectedpop.set_index(\"mouse_barcode\"),\n",
    "                       lymphocytes.set_index(\"mouse_barcode\"),\n",
    "                       behaviour.set_index(\"mouse_barcode\"),\n",
    "                       myeloids.set_index(\"mouse_barcode\")\n",
    "                       ],axis=1).reset_index()\n",
    "\n",
    "merged_df = pd.merge(merged_df[merged_df.columns.difference(metadata_cols)], metadata_df, on=\"mouse_barcode\", how=\"left\")"
   ]
  },
  {
   "cell_type": "code",
   "execution_count": 599,
   "metadata": {},
   "outputs": [],
   "source": [
    "merged_df.to_csv(\"../Data Integration/mergeddf_neurowholebloodlymphselectedlymphbehaviourmyeloids.csv\")"
   ]
  },
  {
   "cell_type": "code",
   "execution_count": 4,
   "metadata": {},
   "outputs": [
    {
     "ename": "KeyError",
     "evalue": "nan",
     "output_type": "error",
     "traceback": [
      "\u001b[1;31m---------------------------------------------------------------------------\u001b[0m",
      "\u001b[1;31mKeyError\u001b[0m                                  Traceback (most recent call last)",
      "Cell \u001b[1;32mIn[4], line 16\u001b[0m\n\u001b[0;32m      3\u001b[0m condition_codes \u001b[38;5;241m=\u001b[39m {\n\u001b[0;32m      4\u001b[0m     \u001b[38;5;124m\"\u001b[39m\u001b[38;5;124mSS\u001b[39m\u001b[38;5;124m\"\u001b[39m : \u001b[38;5;241m0\u001b[39m, \n\u001b[0;32m      5\u001b[0m     \u001b[38;5;124m\"\u001b[39m\u001b[38;5;124mPP\u001b[39m\u001b[38;5;124m\"\u001b[39m : \u001b[38;5;241m1\u001b[39m, \n\u001b[1;32m   (...)\u001b[0m\n\u001b[0;32m      8\u001b[0m     \u001b[38;5;124m\"\u001b[39m\u001b[38;5;124mP\u001b[39m\u001b[38;5;124m\"\u001b[39m : \u001b[38;5;241m1\u001b[39m\n\u001b[0;32m      9\u001b[0m }\n\u001b[0;32m     11\u001b[0m sex_codes \u001b[38;5;241m=\u001b[39m {\n\u001b[0;32m     12\u001b[0m     \u001b[38;5;124m\"\u001b[39m\u001b[38;5;124mF\u001b[39m\u001b[38;5;124m\"\u001b[39m : \u001b[38;5;241m0\u001b[39m, \n\u001b[0;32m     13\u001b[0m     \u001b[38;5;124m\"\u001b[39m\u001b[38;5;124mM\u001b[39m\u001b[38;5;124m\"\u001b[39m : \u001b[38;5;241m1\u001b[39m\n\u001b[0;32m     14\u001b[0m }\n\u001b[1;32m---> 16\u001b[0m b_8_10[\u001b[38;5;124m\"\u001b[39m\u001b[38;5;124mCondition\u001b[39m\u001b[38;5;124m\"\u001b[39m] \u001b[38;5;241m=\u001b[39m \u001b[43m[\u001b[49m\u001b[43mcondition_codes\u001b[49m\u001b[43m[\u001b[49m\u001b[43mcondition\u001b[49m\u001b[43m]\u001b[49m\u001b[43m \u001b[49m\u001b[38;5;28;43;01mfor\u001b[39;49;00m\u001b[43m \u001b[49m\u001b[43mcondition\u001b[49m\u001b[43m \u001b[49m\u001b[38;5;129;43;01min\u001b[39;49;00m\u001b[43m \u001b[49m\u001b[43mb_8_10\u001b[49m\u001b[43m[\u001b[49m\u001b[38;5;124;43m\"\u001b[39;49m\u001b[38;5;124;43mCondition\u001b[39;49m\u001b[38;5;124;43m\"\u001b[39;49m\u001b[43m]\u001b[49m\u001b[43m]\u001b[49m\n\u001b[0;32m     17\u001b[0m b_8_10[\u001b[38;5;124m\"\u001b[39m\u001b[38;5;124mSex\u001b[39m\u001b[38;5;124m\"\u001b[39m] \u001b[38;5;241m=\u001b[39m [sex_codes[sex] \u001b[38;5;28;01mfor\u001b[39;00m sex \u001b[38;5;129;01min\u001b[39;00m b_8_10[\u001b[38;5;124m\"\u001b[39m\u001b[38;5;124mSex\u001b[39m\u001b[38;5;124m\"\u001b[39m]]\n\u001b[0;32m     18\u001b[0m b_8_10 \u001b[38;5;241m=\u001b[39m b_8_10\u001b[38;5;241m.\u001b[39mloc[\u001b[38;5;241m~\u001b[39mb_8_10[\u001b[38;5;124m\"\u001b[39m\u001b[38;5;124mAverage\u001b[39m\u001b[38;5;124m\"\u001b[39m]\u001b[38;5;241m.\u001b[39misna()]\u001b[38;5;241m.\u001b[39mdropna(axis \u001b[38;5;241m=\u001b[39m \u001b[38;5;241m1\u001b[39m)\n",
      "Cell \u001b[1;32mIn[4], line 16\u001b[0m, in \u001b[0;36m<listcomp>\u001b[1;34m(.0)\u001b[0m\n\u001b[0;32m      3\u001b[0m condition_codes \u001b[38;5;241m=\u001b[39m {\n\u001b[0;32m      4\u001b[0m     \u001b[38;5;124m\"\u001b[39m\u001b[38;5;124mSS\u001b[39m\u001b[38;5;124m\"\u001b[39m : \u001b[38;5;241m0\u001b[39m, \n\u001b[0;32m      5\u001b[0m     \u001b[38;5;124m\"\u001b[39m\u001b[38;5;124mPP\u001b[39m\u001b[38;5;124m\"\u001b[39m : \u001b[38;5;241m1\u001b[39m, \n\u001b[1;32m   (...)\u001b[0m\n\u001b[0;32m      8\u001b[0m     \u001b[38;5;124m\"\u001b[39m\u001b[38;5;124mP\u001b[39m\u001b[38;5;124m\"\u001b[39m : \u001b[38;5;241m1\u001b[39m\n\u001b[0;32m      9\u001b[0m }\n\u001b[0;32m     11\u001b[0m sex_codes \u001b[38;5;241m=\u001b[39m {\n\u001b[0;32m     12\u001b[0m     \u001b[38;5;124m\"\u001b[39m\u001b[38;5;124mF\u001b[39m\u001b[38;5;124m\"\u001b[39m : \u001b[38;5;241m0\u001b[39m, \n\u001b[0;32m     13\u001b[0m     \u001b[38;5;124m\"\u001b[39m\u001b[38;5;124mM\u001b[39m\u001b[38;5;124m\"\u001b[39m : \u001b[38;5;241m1\u001b[39m\n\u001b[0;32m     14\u001b[0m }\n\u001b[1;32m---> 16\u001b[0m b_8_10[\u001b[38;5;124m\"\u001b[39m\u001b[38;5;124mCondition\u001b[39m\u001b[38;5;124m\"\u001b[39m] \u001b[38;5;241m=\u001b[39m [\u001b[43mcondition_codes\u001b[49m\u001b[43m[\u001b[49m\u001b[43mcondition\u001b[49m\u001b[43m]\u001b[49m \u001b[38;5;28;01mfor\u001b[39;00m condition \u001b[38;5;129;01min\u001b[39;00m b_8_10[\u001b[38;5;124m\"\u001b[39m\u001b[38;5;124mCondition\u001b[39m\u001b[38;5;124m\"\u001b[39m]]\n\u001b[0;32m     17\u001b[0m b_8_10[\u001b[38;5;124m\"\u001b[39m\u001b[38;5;124mSex\u001b[39m\u001b[38;5;124m\"\u001b[39m] \u001b[38;5;241m=\u001b[39m [sex_codes[sex] \u001b[38;5;28;01mfor\u001b[39;00m sex \u001b[38;5;129;01min\u001b[39;00m b_8_10[\u001b[38;5;124m\"\u001b[39m\u001b[38;5;124mSex\u001b[39m\u001b[38;5;124m\"\u001b[39m]]\n\u001b[0;32m     18\u001b[0m b_8_10 \u001b[38;5;241m=\u001b[39m b_8_10\u001b[38;5;241m.\u001b[39mloc[\u001b[38;5;241m~\u001b[39mb_8_10[\u001b[38;5;124m\"\u001b[39m\u001b[38;5;124mAverage\u001b[39m\u001b[38;5;124m\"\u001b[39m]\u001b[38;5;241m.\u001b[39misna()]\u001b[38;5;241m.\u001b[39mdropna(axis \u001b[38;5;241m=\u001b[39m \u001b[38;5;241m1\u001b[39m)\n",
      "\u001b[1;31mKeyError\u001b[0m: nan"
     ]
    }
   ],
   "source": [
    "b_8_10 = merged_df.loc[(merged_df[\"Batch\"] == str(8)) | (merged_df[\"Batch\"] == str(10)), :]\n",
    "\n",
    "condition_codes = {\n",
    "    \"SS\" : 0, \n",
    "    \"PP\" : 1, \n",
    "    \"PS\" : 1, \n",
    "    \"S\" : 0, \n",
    "    \"P\" : 1\n",
    "}\n",
    "\n",
    "sex_codes = {\n",
    "    \"F\" : 0, \n",
    "    \"M\" : 1\n",
    "}\n",
    "\n",
    "b_8_10[\"Condition\"] = [condition_codes[condition] for condition in b_8_10[\"Condition\"]]\n",
    "b_8_10[\"Sex\"] = [sex_codes[sex] for sex in b_8_10[\"Sex\"]]\n",
    "b_8_10 = b_8_10.loc[~b_8_10[\"Average\"].isna()].dropna(axis = 1)\n",
    "b_8_10 = b_8_10.loc[(b_8_10[\"Condition\"] == 0) | (b_8_10[\"Condition\"] == 1)]"
   ]
  },
  {
   "cell_type": "code",
   "execution_count": 614,
   "metadata": {},
   "outputs": [],
   "source": [
    "from boruta import BorutaPy\n",
    "from sklearn.ensemble import RandomForestRegressor\n",
    "from sklearn.preprocessing import StandardScaler\n",
    "from sklearn.model_selection import KFold\n",
    "import statsmodels.api as sm\n",
    "\n",
    "class BorutaFeatureSelection:\n",
    "    def __init__(self, n_splits=5, n_repeats=10, random_state=42):\n",
    "        self.n_splits = n_splits\n",
    "        self.n_repeats = n_repeats\n",
    "        self.random_state = random_state\n",
    "        self.feature_ranks = None\n",
    "        self.top_features = None\n",
    "        self.scaler_X = StandardScaler()\n",
    "        self.scaler_y = StandardScaler()\n",
    "\n",
    "    def fit(self, X, y, k=10):\n",
    "        # Scale the features and target variable\n",
    "        X_scaled = self.scaler_X.fit_transform(X)\n",
    "        y_scaled = self.scaler_y.fit_transform(y.values.reshape(-1, 1)).ravel()\n",
    "        \n",
    "        self.feature_ranks = np.zeros(X.shape[1])\n",
    "        \n",
    "        for _ in range(self.n_repeats):\n",
    "            kf = KFold(n_splits=self.n_splits, shuffle=True, random_state=self.random_state)\n",
    "            \n",
    "            for train_index, _ in kf.split(X_scaled):\n",
    "                X_train, y_train = X_scaled[train_index], y_scaled[train_index]\n",
    "                \n",
    "                rf = RandomForestRegressor(n_jobs=-1)\n",
    "                selector = BorutaPy(rf)\n",
    "                selector.fit(X_train, y_train)\n",
    "                \n",
    "                self.feature_ranks += selector.ranking_\n",
    "        \n",
    "        self.feature_ranks /= (self.n_splits * self.n_repeats)\n",
    "        top_k_indices = np.argsort(self.feature_ranks)[:k]\n",
    "        self.top_features = [endo.columns[i] for i in top_k_indices]\n",
    "        \n",
    "    def get_top_features(self):\n",
    "        return self.top_features\n",
    "\n",
    "# Creating basic model - Boruta feature selection with scaling\n",
    "endo = b_8_10.loc[:, b_8_10.columns.difference(metadata_cols)].drop([\"mouse_barcode\", \"Average\"], axis=1)\n",
    "endo = endo / endo.max()\n",
    "exo = b_8_10[\"Average\"]\n",
    "\n",
    "selector = BorutaFeatureSelection(n_splits=5, n_repeats=1)\n",
    "selector.fit(endo.values, exo, k=10)\n",
    "top_features = selector.get_top_features()\n",
    "\n",
    "# Create a new dataframe with selected features\n",
    "selected_features = endo[top_features]"
   ]
  },
  {
   "cell_type": "code",
   "execution_count": 622,
   "metadata": {},
   "outputs": [
    {
     "name": "stdout",
     "output_type": "stream",
     "text": [
      "                            OLS Regression Results                            \n",
      "==============================================================================\n",
      "Dep. Variable:                Average   R-squared:                       0.268\n",
      "Model:                            OLS   Adj. R-squared:                  0.187\n",
      "Method:                 Least Squares   F-statistic:                     3.298\n",
      "Date:                Thu, 02 May 2024   Prob (F-statistic):             0.0354\n",
      "Time:                        17:24:14   Log-Likelihood:                 10.083\n",
      "No. Observations:                  31   AIC:                            -12.17\n",
      "Df Residuals:                      27   BIC:                            -6.430\n",
      "Df Model:                           3                                         \n",
      "Covariance Type:            nonrobust                                         \n",
      "==========================================================================================================\n",
      "                                             coef    std err          t      P>|t|      [0.025      0.975]\n",
      "----------------------------------------------------------------------------------------------------------\n",
      "const                                      0.8336      0.179      4.667      0.000       0.467       1.200\n",
      "CD4+ CD44+_Freq of Live cells | Week 4    -0.4731      0.221     -2.141      0.041      -0.926      -0.020\n",
      "OF_MaxAcceleration                         0.2956      0.140      2.117      0.044       0.009       0.582\n",
      "Sex                                       -0.0805      0.068     -1.180      0.248      -0.220       0.059\n",
      "==============================================================================\n",
      "Omnibus:                        1.533   Durbin-Watson:                   1.141\n",
      "Prob(Omnibus):                  0.465   Jarque-Bera (JB):                0.955\n",
      "Skew:                           0.430   Prob(JB):                        0.620\n",
      "Kurtosis:                       3.026   Cond. No.                         11.9\n",
      "==============================================================================\n",
      "\n",
      "Notes:\n",
      "[1] Standard Errors assume that the covariance matrix of the errors is correctly specified.\n"
     ]
    }
   ],
   "source": [
    "import statsmodels.api as sm\n",
    "\n",
    "# Create a new dataframe with selected features\n",
    "# selected_features = pd.concat([endo[top_features[:5]],b_8_10[\"Sex\"]], axis = 1)\n",
    "\n",
    "selected_features = pd.concat([\n",
    "    endo[[\"CD4+ CD44+_Freq of Live cells | Week 4\", \"OF_MaxAcceleration\"]], \n",
    "    b_8_10[\"Sex\"]\n",
    "], axis = 1)\n",
    "\n",
    "# Add a constant term to the selected features\n",
    "X = sm.add_constant(selected_features)\n",
    "\n",
    "# Fit the linear regression model using RLM\n",
    "model = sm.OLS(exo/exo.max(), X)\n",
    "results = model.fit()\n",
    "\n",
    "# Print the model summary\n",
    "print(results.summary())"
   ]
  },
  {
   "cell_type": "code",
   "execution_count": 7,
   "metadata": {},
   "outputs": [
    {
     "data": {
      "application/vnd.plotly.v1+json": {
       "config": {
        "plotlyServerURL": "https://plot.ly"
       },
       "data": [
        {
         "hovertemplate": "Average=%{x}<br>Rotarod_Time_Becky=%{y}<br>CD4+ CD44+_Freq of Live cells | wk8=%{marker.color}<extra></extra>",
         "legendgroup": "",
         "marker": {
          "color": [
           1.75,
           1.42,
           1.58,
           1.73,
           1.36,
           1.38,
           1.41,
           0.87,
           0.96,
           1.3,
           1.12,
           1.29,
           1.16,
           1.02,
           1.21,
           1.12,
           1.06,
           0.87,
           1.05,
           1.32,
           1.03,
           1.06,
           0.84,
           1.01,
           1.05,
           1.3,
           1.13,
           1.38,
           0.73,
           0.76
          ],
          "coloraxis": "coloraxis",
          "size": 20,
          "symbol": "circle"
         },
         "mode": "markers",
         "name": "",
         "orientation": "v",
         "showlegend": false,
         "type": "scatter",
         "x": [
          277.75515601606855,
          314.21284259337835,
          268.40248543953686,
          342.8924490373025,
          330.8952908049911,
          443.07293720529015,
          688.2828059600592,
          386.59145470782204,
          412.74988737378845,
          361.4523298179877,
          520.1724782113791,
          567.6047591855003,
          609.5157191746864,
          460.1260286805589,
          461.84616338754597,
          520.2542622276462,
          373.37948537047487,
          580.1595432793664,
          379.0737104346126,
          493.45781224188363,
          415.9174837870996,
          428.19813251378713,
          500.2743403936789,
          513.7181705530229,
          439.30672887413766,
          605.6021999229345,
          516.7186393058205,
          192.9502507069033,
          85.63305129548668,
          640.2892652100755
         ],
         "xaxis": "x",
         "y": [
          14.5,
          14.5,
          15.5,
          10.5,
          13.5,
          17.5,
          15,
          11.5,
          16.5,
          11.5,
          14.5,
          17,
          9.5,
          12.5,
          12.5,
          18.5,
          18.5,
          25,
          11,
          20,
          12,
          20.5,
          21.5,
          20.5,
          12,
          13.5,
          12.5,
          19,
          14,
          30.5
         ],
         "yaxis": "y"
        },
        {
         "hovertemplate": "<b>OLS trendline</b><br>Rotarod_Time_Becky = 0.00978522 * x_axis_value + 11.5672<br>R<sup>2</sup>=0.079104<br><br>Average=%{x}<br>Rotarod_Time_Becky=%{y} <b>(trend)</b><extra></extra>",
         "legendgroup": "",
         "marker": {
          "size": 20,
          "symbol": "circle"
         },
         "mode": "lines",
         "name": "",
         "showlegend": false,
         "type": "scatter",
         "x": [
          85.63305129548668,
          192.9502507069033,
          268.40248543953686,
          277.75515601606855,
          314.21284259337835,
          330.8952908049911,
          342.8924490373025,
          361.4523298179877,
          373.37948537047487,
          379.0737104346126,
          386.59145470782204,
          412.74988737378845,
          415.9174837870996,
          428.19813251378713,
          439.30672887413766,
          443.07293720529015,
          460.1260286805589,
          461.84616338754597,
          493.45781224188363,
          500.2743403936789,
          513.7181705530229,
          516.7186393058205,
          520.1724782113791,
          520.2542622276462,
          567.6047591855003,
          580.1595432793664,
          605.6021999229345,
          609.5157191746864,
          640.2892652100755,
          688.2828059600592
         ],
         "xaxis": "x",
         "y": [
          12.405108879148917,
          13.45523120818995,
          14.193547870415063,
          14.285065802884851,
          14.641812260582105,
          14.805053674504256,
          14.922448498576124,
          15.104061001875046,
          15.22077083437446,
          15.276490075271832,
          15.350052851496104,
          15.606018851223126,
          15.637014476726325,
          15.75718331745021,
          15.865883368758734,
          15.90273654314322,
          16.069604782675885,
          16.086436677979457,
          16.395763593905414,
          16.462464816617114,
          16.594015642725054,
          16.623375887421933,
          16.657172458479785,
          16.657972733012777,
          17.121307728888024,
          17.244159044292882,
          17.493121018683475,
          17.531415662728755,
          17.832541558789888,
          18.302168879179476
         ],
         "yaxis": "y"
        }
       ],
       "layout": {
        "coloraxis": {
         "cmax": 1.75,
         "cmin": 0.73,
         "colorbar": {
          "title": {
           "text": "CD4+ CD44+_Freq of Live cells | wk8"
          }
         },
         "colorscale": [
          [
           0,
           "#2c5784"
          ],
          [
           1,
           "#cf2086"
          ]
         ]
        },
        "height": 600,
        "legend": {
         "tracegroupgap": 0
        },
        "plot_bgcolor": "white",
        "template": {
         "data": {
          "bar": [
           {
            "error_x": {
             "color": "#2a3f5f"
            },
            "error_y": {
             "color": "#2a3f5f"
            },
            "marker": {
             "line": {
              "color": "#E5ECF6",
              "width": 0.5
             },
             "pattern": {
              "fillmode": "overlay",
              "size": 10,
              "solidity": 0.2
             }
            },
            "type": "bar"
           }
          ],
          "barpolar": [
           {
            "marker": {
             "line": {
              "color": "#E5ECF6",
              "width": 0.5
             },
             "pattern": {
              "fillmode": "overlay",
              "size": 10,
              "solidity": 0.2
             }
            },
            "type": "barpolar"
           }
          ],
          "carpet": [
           {
            "aaxis": {
             "endlinecolor": "#2a3f5f",
             "gridcolor": "white",
             "linecolor": "white",
             "minorgridcolor": "white",
             "startlinecolor": "#2a3f5f"
            },
            "baxis": {
             "endlinecolor": "#2a3f5f",
             "gridcolor": "white",
             "linecolor": "white",
             "minorgridcolor": "white",
             "startlinecolor": "#2a3f5f"
            },
            "type": "carpet"
           }
          ],
          "choropleth": [
           {
            "colorbar": {
             "outlinewidth": 0,
             "ticks": ""
            },
            "type": "choropleth"
           }
          ],
          "contour": [
           {
            "colorbar": {
             "outlinewidth": 0,
             "ticks": ""
            },
            "colorscale": [
             [
              0,
              "#0d0887"
             ],
             [
              0.1111111111111111,
              "#46039f"
             ],
             [
              0.2222222222222222,
              "#7201a8"
             ],
             [
              0.3333333333333333,
              "#9c179e"
             ],
             [
              0.4444444444444444,
              "#bd3786"
             ],
             [
              0.5555555555555556,
              "#d8576b"
             ],
             [
              0.6666666666666666,
              "#ed7953"
             ],
             [
              0.7777777777777778,
              "#fb9f3a"
             ],
             [
              0.8888888888888888,
              "#fdca26"
             ],
             [
              1,
              "#f0f921"
             ]
            ],
            "type": "contour"
           }
          ],
          "contourcarpet": [
           {
            "colorbar": {
             "outlinewidth": 0,
             "ticks": ""
            },
            "type": "contourcarpet"
           }
          ],
          "heatmap": [
           {
            "colorbar": {
             "outlinewidth": 0,
             "ticks": ""
            },
            "colorscale": [
             [
              0,
              "#0d0887"
             ],
             [
              0.1111111111111111,
              "#46039f"
             ],
             [
              0.2222222222222222,
              "#7201a8"
             ],
             [
              0.3333333333333333,
              "#9c179e"
             ],
             [
              0.4444444444444444,
              "#bd3786"
             ],
             [
              0.5555555555555556,
              "#d8576b"
             ],
             [
              0.6666666666666666,
              "#ed7953"
             ],
             [
              0.7777777777777778,
              "#fb9f3a"
             ],
             [
              0.8888888888888888,
              "#fdca26"
             ],
             [
              1,
              "#f0f921"
             ]
            ],
            "type": "heatmap"
           }
          ],
          "heatmapgl": [
           {
            "colorbar": {
             "outlinewidth": 0,
             "ticks": ""
            },
            "colorscale": [
             [
              0,
              "#0d0887"
             ],
             [
              0.1111111111111111,
              "#46039f"
             ],
             [
              0.2222222222222222,
              "#7201a8"
             ],
             [
              0.3333333333333333,
              "#9c179e"
             ],
             [
              0.4444444444444444,
              "#bd3786"
             ],
             [
              0.5555555555555556,
              "#d8576b"
             ],
             [
              0.6666666666666666,
              "#ed7953"
             ],
             [
              0.7777777777777778,
              "#fb9f3a"
             ],
             [
              0.8888888888888888,
              "#fdca26"
             ],
             [
              1,
              "#f0f921"
             ]
            ],
            "type": "heatmapgl"
           }
          ],
          "histogram": [
           {
            "marker": {
             "pattern": {
              "fillmode": "overlay",
              "size": 10,
              "solidity": 0.2
             }
            },
            "type": "histogram"
           }
          ],
          "histogram2d": [
           {
            "colorbar": {
             "outlinewidth": 0,
             "ticks": ""
            },
            "colorscale": [
             [
              0,
              "#0d0887"
             ],
             [
              0.1111111111111111,
              "#46039f"
             ],
             [
              0.2222222222222222,
              "#7201a8"
             ],
             [
              0.3333333333333333,
              "#9c179e"
             ],
             [
              0.4444444444444444,
              "#bd3786"
             ],
             [
              0.5555555555555556,
              "#d8576b"
             ],
             [
              0.6666666666666666,
              "#ed7953"
             ],
             [
              0.7777777777777778,
              "#fb9f3a"
             ],
             [
              0.8888888888888888,
              "#fdca26"
             ],
             [
              1,
              "#f0f921"
             ]
            ],
            "type": "histogram2d"
           }
          ],
          "histogram2dcontour": [
           {
            "colorbar": {
             "outlinewidth": 0,
             "ticks": ""
            },
            "colorscale": [
             [
              0,
              "#0d0887"
             ],
             [
              0.1111111111111111,
              "#46039f"
             ],
             [
              0.2222222222222222,
              "#7201a8"
             ],
             [
              0.3333333333333333,
              "#9c179e"
             ],
             [
              0.4444444444444444,
              "#bd3786"
             ],
             [
              0.5555555555555556,
              "#d8576b"
             ],
             [
              0.6666666666666666,
              "#ed7953"
             ],
             [
              0.7777777777777778,
              "#fb9f3a"
             ],
             [
              0.8888888888888888,
              "#fdca26"
             ],
             [
              1,
              "#f0f921"
             ]
            ],
            "type": "histogram2dcontour"
           }
          ],
          "mesh3d": [
           {
            "colorbar": {
             "outlinewidth": 0,
             "ticks": ""
            },
            "type": "mesh3d"
           }
          ],
          "parcoords": [
           {
            "line": {
             "colorbar": {
              "outlinewidth": 0,
              "ticks": ""
             }
            },
            "type": "parcoords"
           }
          ],
          "pie": [
           {
            "automargin": true,
            "type": "pie"
           }
          ],
          "scatter": [
           {
            "fillpattern": {
             "fillmode": "overlay",
             "size": 10,
             "solidity": 0.2
            },
            "type": "scatter"
           }
          ],
          "scatter3d": [
           {
            "line": {
             "colorbar": {
              "outlinewidth": 0,
              "ticks": ""
             }
            },
            "marker": {
             "colorbar": {
              "outlinewidth": 0,
              "ticks": ""
             }
            },
            "type": "scatter3d"
           }
          ],
          "scattercarpet": [
           {
            "marker": {
             "colorbar": {
              "outlinewidth": 0,
              "ticks": ""
             }
            },
            "type": "scattercarpet"
           }
          ],
          "scattergeo": [
           {
            "marker": {
             "colorbar": {
              "outlinewidth": 0,
              "ticks": ""
             }
            },
            "type": "scattergeo"
           }
          ],
          "scattergl": [
           {
            "marker": {
             "colorbar": {
              "outlinewidth": 0,
              "ticks": ""
             }
            },
            "type": "scattergl"
           }
          ],
          "scattermapbox": [
           {
            "marker": {
             "colorbar": {
              "outlinewidth": 0,
              "ticks": ""
             }
            },
            "type": "scattermapbox"
           }
          ],
          "scatterpolar": [
           {
            "marker": {
             "colorbar": {
              "outlinewidth": 0,
              "ticks": ""
             }
            },
            "type": "scatterpolar"
           }
          ],
          "scatterpolargl": [
           {
            "marker": {
             "colorbar": {
              "outlinewidth": 0,
              "ticks": ""
             }
            },
            "type": "scatterpolargl"
           }
          ],
          "scatterternary": [
           {
            "marker": {
             "colorbar": {
              "outlinewidth": 0,
              "ticks": ""
             }
            },
            "type": "scatterternary"
           }
          ],
          "surface": [
           {
            "colorbar": {
             "outlinewidth": 0,
             "ticks": ""
            },
            "colorscale": [
             [
              0,
              "#0d0887"
             ],
             [
              0.1111111111111111,
              "#46039f"
             ],
             [
              0.2222222222222222,
              "#7201a8"
             ],
             [
              0.3333333333333333,
              "#9c179e"
             ],
             [
              0.4444444444444444,
              "#bd3786"
             ],
             [
              0.5555555555555556,
              "#d8576b"
             ],
             [
              0.6666666666666666,
              "#ed7953"
             ],
             [
              0.7777777777777778,
              "#fb9f3a"
             ],
             [
              0.8888888888888888,
              "#fdca26"
             ],
             [
              1,
              "#f0f921"
             ]
            ],
            "type": "surface"
           }
          ],
          "table": [
           {
            "cells": {
             "fill": {
              "color": "#EBF0F8"
             },
             "line": {
              "color": "white"
             }
            },
            "header": {
             "fill": {
              "color": "#C8D4E3"
             },
             "line": {
              "color": "white"
             }
            },
            "type": "table"
           }
          ]
         },
         "layout": {
          "annotationdefaults": {
           "arrowcolor": "#2a3f5f",
           "arrowhead": 0,
           "arrowwidth": 1
          },
          "autotypenumbers": "strict",
          "coloraxis": {
           "colorbar": {
            "outlinewidth": 0,
            "ticks": ""
           }
          },
          "colorscale": {
           "diverging": [
            [
             0,
             "#8e0152"
            ],
            [
             0.1,
             "#c51b7d"
            ],
            [
             0.2,
             "#de77ae"
            ],
            [
             0.3,
             "#f1b6da"
            ],
            [
             0.4,
             "#fde0ef"
            ],
            [
             0.5,
             "#f7f7f7"
            ],
            [
             0.6,
             "#e6f5d0"
            ],
            [
             0.7,
             "#b8e186"
            ],
            [
             0.8,
             "#7fbc41"
            ],
            [
             0.9,
             "#4d9221"
            ],
            [
             1,
             "#276419"
            ]
           ],
           "sequential": [
            [
             0,
             "#0d0887"
            ],
            [
             0.1111111111111111,
             "#46039f"
            ],
            [
             0.2222222222222222,
             "#7201a8"
            ],
            [
             0.3333333333333333,
             "#9c179e"
            ],
            [
             0.4444444444444444,
             "#bd3786"
            ],
            [
             0.5555555555555556,
             "#d8576b"
            ],
            [
             0.6666666666666666,
             "#ed7953"
            ],
            [
             0.7777777777777778,
             "#fb9f3a"
            ],
            [
             0.8888888888888888,
             "#fdca26"
            ],
            [
             1,
             "#f0f921"
            ]
           ],
           "sequentialminus": [
            [
             0,
             "#0d0887"
            ],
            [
             0.1111111111111111,
             "#46039f"
            ],
            [
             0.2222222222222222,
             "#7201a8"
            ],
            [
             0.3333333333333333,
             "#9c179e"
            ],
            [
             0.4444444444444444,
             "#bd3786"
            ],
            [
             0.5555555555555556,
             "#d8576b"
            ],
            [
             0.6666666666666666,
             "#ed7953"
            ],
            [
             0.7777777777777778,
             "#fb9f3a"
            ],
            [
             0.8888888888888888,
             "#fdca26"
            ],
            [
             1,
             "#f0f921"
            ]
           ]
          },
          "colorway": [
           "#636efa",
           "#EF553B",
           "#00cc96",
           "#ab63fa",
           "#FFA15A",
           "#19d3f3",
           "#FF6692",
           "#B6E880",
           "#FF97FF",
           "#FECB52"
          ],
          "font": {
           "color": "#2a3f5f"
          },
          "geo": {
           "bgcolor": "white",
           "lakecolor": "white",
           "landcolor": "#E5ECF6",
           "showlakes": true,
           "showland": true,
           "subunitcolor": "white"
          },
          "hoverlabel": {
           "align": "left"
          },
          "hovermode": "closest",
          "mapbox": {
           "style": "light"
          },
          "paper_bgcolor": "white",
          "plot_bgcolor": "#E5ECF6",
          "polar": {
           "angularaxis": {
            "gridcolor": "white",
            "linecolor": "white",
            "ticks": ""
           },
           "bgcolor": "#E5ECF6",
           "radialaxis": {
            "gridcolor": "white",
            "linecolor": "white",
            "ticks": ""
           }
          },
          "scene": {
           "xaxis": {
            "backgroundcolor": "#E5ECF6",
            "gridcolor": "white",
            "gridwidth": 2,
            "linecolor": "white",
            "showbackground": true,
            "ticks": "",
            "zerolinecolor": "white"
           },
           "yaxis": {
            "backgroundcolor": "#E5ECF6",
            "gridcolor": "white",
            "gridwidth": 2,
            "linecolor": "white",
            "showbackground": true,
            "ticks": "",
            "zerolinecolor": "white"
           },
           "zaxis": {
            "backgroundcolor": "#E5ECF6",
            "gridcolor": "white",
            "gridwidth": 2,
            "linecolor": "white",
            "showbackground": true,
            "ticks": "",
            "zerolinecolor": "white"
           }
          },
          "shapedefaults": {
           "line": {
            "color": "#2a3f5f"
           }
          },
          "ternary": {
           "aaxis": {
            "gridcolor": "white",
            "linecolor": "white",
            "ticks": ""
           },
           "baxis": {
            "gridcolor": "white",
            "linecolor": "white",
            "ticks": ""
           },
           "bgcolor": "#E5ECF6",
           "caxis": {
            "gridcolor": "white",
            "linecolor": "white",
            "ticks": ""
           }
          },
          "title": {
           "x": 0.05
          },
          "xaxis": {
           "automargin": true,
           "gridcolor": "white",
           "linecolor": "white",
           "ticks": "",
           "title": {
            "standoff": 15
           },
           "zerolinecolor": "white",
           "zerolinewidth": 2
          },
          "yaxis": {
           "automargin": true,
           "gridcolor": "white",
           "linecolor": "white",
           "ticks": "",
           "title": {
            "standoff": 15
           },
           "zerolinecolor": "white",
           "zerolinewidth": 2
          }
         }
        },
        "title": {
         "font": {
          "size": 20
         },
         "text": "Average vs Rotarod_Time_Becky by CD4+ CD44+_Freq of Live cells | wk8",
         "x": 0.5
        },
        "width": 800,
        "xaxis": {
         "anchor": "y",
         "domain": [
          0,
          1
         ],
         "tickfont": {
          "size": 14
         },
         "title": {
          "font": {
           "size": 16
          },
          "text": "Average"
         }
        },
        "yaxis": {
         "anchor": "x",
         "domain": [
          0,
          1
         ],
         "tickfont": {
          "size": 14
         },
         "title": {
          "font": {
           "size": 16
          },
          "text": "Rotarod_Time_Becky"
         }
        }
       }
      }
     },
     "metadata": {},
     "output_type": "display_data"
    }
   ],
   "source": [
    "import plotly.express as px\n",
    "batch_column_map = {\n",
    "    \"6\": \"CD4+ CD44+_Freq of Live cells | wk8\",\n",
    "    \"7\": \"CD4+ CD44+_Freq of Live cells | wk8\",\n",
    "    \"8\": \"CD4+ CD44+_Freq of Live cells | wk8\",\n",
    "    \"10\": \"CD4+ CD44+_Freq of Live cells | wk8\",\n",
    "    \"16\": \"CD4+ CD44+_Freq of Live cells | wk8\"\n",
    "}\n",
    "\n",
    "x_axis_map = {\n",
    "    \"6\": \"Average\",\n",
    "    \"7\": \"Lateral\",\n",
    "    \"8\": \"Average\",\n",
    "    \"10\": \"Average\",\n",
    "    \"16\": \"Average\"\n",
    "}\n",
    "\n",
    "y_axis = \"Rotarod_Time_Becky\"\n",
    "\n",
    "# Extract the required columns from the merged dataframe\n",
    "plot_data = merged_df.loc[\n",
    "    (merged_df[\"Batch\"] == str(10)) |\n",
    "    (merged_df[\"Batch\"] == str(16)) |\n",
    "    (merged_df[\"Batch\"] == str(6)),\n",
    "    [\"mouse_barcode\", \"Batch\", y_axis]\n",
    "]\n",
    "\n",
    "# Map the appropriate column based on the \"Batch\" value\n",
    "plot_data[\"colour\"] = plot_data[\"Batch\"].map(batch_column_map)\n",
    "plot_data[\"x_axis\"] = plot_data[\"Batch\"].map(x_axis_map)\n",
    "plot_data[\"colour_value\"] = plot_data.apply(lambda row: merged_df.loc[row.name, row[\"colour\"]], axis=1)\n",
    "plot_data[\"x_axis_value\"] = plot_data.apply(lambda row: merged_df.loc[row.name, row[\"x_axis\"]], axis=1)\n",
    "plot_data.dropna(subset=[\"colour_value\", \"x_axis_value\"], inplace=True)\n",
    "# plot_data = plot_data.drop(index = 69)\n",
    "\n",
    "# Define the color scale\n",
    "color_scale = [(0, '#2c5784'), (1, '#cf2086')]\n",
    "\n",
    "fig = px.scatter(\n",
    "    data_frame=plot_data,\n",
    "    x=\"x_axis_value\",\n",
    "    y=y_axis,\n",
    "    color=\"colour_value\",\n",
    "    color_continuous_scale=color_scale,\n",
    "    range_color=[plot_data[\"colour_value\"].min(), plot_data[\"colour_value\"].max()],\n",
    "    title=plot_data[\"x_axis\"].iloc[0] + \" vs \" + y_axis + \" by \" + plot_data[\"colour\"].iloc[0],\n",
    "    labels={\"y_axis\": y_axis,\n",
    "            \"x_axis_value\": plot_data[\"x_axis\"].iloc[0],\n",
    "            \"colour_value\": plot_data[\"colour\"].iloc[0]},\n",
    "    trendline=\"ols\"  # Add the regression line\n",
    ")\n",
    "\n",
    "# Update the marker size\n",
    "fig.update_traces(marker=dict(size=20))\n",
    "\n",
    "# Update the layout\n",
    "fig.update_layout(\n",
    "    plot_bgcolor='white',\n",
    "    width=800,\n",
    "    height=600,\n",
    "    title=dict(x=0.5, font=dict(size=20)),\n",
    "    xaxis=dict(\n",
    "        title=dict(font=dict(size=16)),\n",
    "        tickfont=dict(size=14)\n",
    "    ),\n",
    "    yaxis=dict(\n",
    "        title=dict(font=dict(size=16)),\n",
    "        tickfont=dict(size=14)\n",
    "    ),\n",
    "    coloraxis_colorbar=dict(title=\"CD4+ CD44+_Freq of Live cells | wk8\")\n",
    ")\n",
    "\n",
    "# Display the plot\n",
    "fig.show()\n",
    "\n",
    "fig.write_image(f\"../Data Integration/{plot_data['x_axis'].unique()[0]}vs{y_axis}by_cd4cd44_b61016.svg\")"
   ]
  },
  {
   "cell_type": "code",
   "execution_count": 9,
   "metadata": {},
   "outputs": [
    {
     "name": "stdout",
     "output_type": "stream",
     "text": [
      "                    Robust linear Model Regression Results                    \n",
      "==============================================================================\n",
      "Dep. Variable:           x_axis_value   No. Observations:                   30\n",
      "Model:                            RLM   Df Residuals:                       29\n",
      "Method:                          IRLS   Df Model:                            0\n",
      "Norm:                          HuberT                                         \n",
      "Scale Est.:                       mad                                         \n",
      "Cov Type:                          H1                                         \n",
      "Date:                Fri, 31 May 2024                                         \n",
      "Time:                        08:54:16                                         \n",
      "No. Iterations:                    15                                         \n",
      "================================================================================\n",
      "                   coef    std err          z      P>|z|      [0.025      0.975]\n",
      "--------------------------------------------------------------------------------\n",
      "colour_value    -0.3538      0.157     -2.249      0.025      -0.662      -0.045\n",
      "================================================================================\n",
      "\n",
      "If the model instance has been used for another fit with different fit parameters, then the fit options might not be the correct ones anymore .\n"
     ]
    }
   ],
   "source": [
    "import statsmodels.api as sm\n",
    "from sklearn.preprocessing import StandardScaler\n",
    "\n",
    "reg_data = plot_data[['colour_value', 'x_axis_value', 'Rotarod_Time_Becky']].dropna()\n",
    "\n",
    "# Add a constant term to the independent variables\n",
    "# X = sm.add_constant(reg_data[['colour_value', 'Rotarod_Time_Becky']])\n",
    "scaler = StandardScaler()\n",
    "reg_data[['colour_value', 'Rotarod_Time_Becky', 'x_axis_value']] = scaler.fit_transform(reg_data[['colour_value', 'Rotarod_Time_Becky', 'x_axis_value']])\n",
    "\n",
    "X = reg_data[[\"colour_value\"]]\n",
    "y = reg_data['x_axis_value']\n",
    "\n",
    "# Perform OLS regression\n",
    "model = sm.RLM(y, X)\n",
    "results = model.fit()\n",
    "\n",
    "# Print the regression summary\n",
    "# print(\"OLS Regression Results:\")\n",
    "print(results.summary())"
   ]
  }
 ],
 "metadata": {
  "kernelspec": {
   "display_name": "Python 3",
   "language": "python",
   "name": "python3"
  },
  "language_info": {
   "codemirror_mode": {
    "name": "ipython",
    "version": 3
   },
   "file_extension": ".py",
   "mimetype": "text/x-python",
   "name": "python",
   "nbconvert_exporter": "python",
   "pygments_lexer": "ipython3",
   "version": "3.11.3"
  }
 },
 "nbformat": 4,
 "nbformat_minor": 2
}
